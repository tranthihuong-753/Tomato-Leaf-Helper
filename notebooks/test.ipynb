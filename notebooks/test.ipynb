{
 "cells": [
  {
   "cell_type": "code",
   "execution_count": null,
   "id": "f6ae3005",
   "metadata": {},
   "outputs": [],
   "source": []
  },
  {
   "cell_type": "code",
   "execution_count": 1,
   "id": "ce513e4d",
   "metadata": {},
   "outputs": [],
   "source": [
    "import numpy as np"
   ]
  },
  {
   "cell_type": "code",
   "execution_count": 2,
   "id": "5555b902",
   "metadata": {},
   "outputs": [],
   "source": [
    "X_train = np.load(\"../data/processed/train/x.npy\")\n",
    "y_train = np.load(\"../data/processed/train/y.npy\")\n",
    "X_valid = np.load(\"../data/processed/valid/x.npy\")\n",
    "y_valid = np.load(\"../data/processed/valid/y.npy\")"
   ]
  },
  {
   "cell_type": "code",
   "execution_count": null,
   "id": "0f253a96",
   "metadata": {},
   "outputs": [],
   "source": []
  }
 ],
 "metadata": {
  "kernelspec": {
   "display_name": "virtual-environment",
   "language": "python",
   "name": "python3"
  },
  "language_info": {
   "codemirror_mode": {
    "name": "ipython",
    "version": 3
   },
   "file_extension": ".py",
   "mimetype": "text/x-python",
   "name": "python",
   "nbconvert_exporter": "python",
   "pygments_lexer": "ipython3",
   "version": "3.11.9"
  }
 },
 "nbformat": 4,
 "nbformat_minor": 5
}
